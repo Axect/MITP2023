{
 "cells": [
  {
   "cell_type": "markdown",
   "id": "73d529eb",
   "metadata": {},
   "source": [
    "# Variational Quantum Classifier #\n",
    "\n",
    "## MITP 2023"
   ]
  },
  {
   "cell_type": "markdown",
   "id": "bd43cb93",
   "metadata": {},
   "source": [
    "In this notebook we will consider the Variational Quantum Classifier (VQC) which is a hybrid classical-quantum computing approach to classification problems. The algorithm uses the variational method to optimise a parameterised quantum circuit and minimise a loss function. Comparing to a classical classification problem, the VQC is very similar, but one replaces the classical model with a quantum circuit. \n",
    "\n",
    "Here we will consider a simple VQC, using the Titanic dataset from the [Kaggle competition](https://www.kaggle.com/c/titanic). We will code the algorithm in the `PennyLane` language (See the Introduction to Quantum Computing notebook for help), making use of the inbuilt `AdamOptimiser`. For the classical processing, we will use the `sklearn` package. We will also use `Pandas` `DataFrames`, if you are not familiar, there is a good introduction [here](https://www.w3schools.com/python/pandas/pandas_intro.asp)."
   ]
  },
  {
   "cell_type": "code",
   "execution_count": 17,
   "id": "2c9a3c07",
   "metadata": {},
   "outputs": [],
   "source": [
    "import pennylane as qml\n",
    "import pandas as pd\n",
    "import math\n",
    "\n",
    "import matplotlib.pyplot as plt\n",
    "\n",
    "from pennylane import numpy as npl\n",
    "from pennylane.optimize import AdamOptimizer\n",
    "from sklearn.model_selection import train_test_split\n",
    "from sklearn.metrics import accuracy_score, f1_score, precision_score, recall_score\n",
    "\n",
    "### Set up device\n",
    "n_qubits = 4\n",
    "n_layers = 2\n",
    "dev      = qml.device(\"default.qubit\", wires = n_qubits)"
   ]
  },
  {
   "cell_type": "markdown",
   "id": "0a963522",
   "metadata": {},
   "source": [
    "# Titanic Classification Problem \n",
    "\n",
    "The Titanic classification problem takes passenger data from the Titanic and predicts which passengers survived the sinking of the Titanic. The data consists of personal data of each passenger, for example their name, age, gender, socio-economic class etc. Try using a `Pandas` `DataFrame` to examine the full dataset in the `train.csv` file.  "
   ]
  },
  {
   "cell_type": "code",
   "execution_count": 2,
   "id": "269e6318",
   "metadata": {},
   "outputs": [],
   "source": [
    "### Your Pandas code here\n",
    "train = pd.read_csv(\"./TitanicData/train.csv\")\n",
    "test  = pd.read_csv(\"./TitanicData/test.csv\")"
   ]
  },
  {
   "cell_type": "code",
   "execution_count": 3,
   "id": "dc8b252c",
   "metadata": {},
   "outputs": [
    {
     "data": {
      "text/html": [
       "<div>\n",
       "<style scoped>\n",
       "    .dataframe tbody tr th:only-of-type {\n",
       "        vertical-align: middle;\n",
       "    }\n",
       "\n",
       "    .dataframe tbody tr th {\n",
       "        vertical-align: top;\n",
       "    }\n",
       "\n",
       "    .dataframe thead th {\n",
       "        text-align: right;\n",
       "    }\n",
       "</style>\n",
       "<table border=\"1\" class=\"dataframe\">\n",
       "  <thead>\n",
       "    <tr style=\"text-align: right;\">\n",
       "      <th></th>\n",
       "      <th>PassengerId</th>\n",
       "      <th>Survived</th>\n",
       "      <th>Pclass</th>\n",
       "      <th>Name</th>\n",
       "      <th>Sex</th>\n",
       "      <th>Age</th>\n",
       "      <th>SibSp</th>\n",
       "      <th>Parch</th>\n",
       "      <th>Ticket</th>\n",
       "      <th>Fare</th>\n",
       "      <th>Cabin</th>\n",
       "      <th>Embarked</th>\n",
       "    </tr>\n",
       "  </thead>\n",
       "  <tbody>\n",
       "    <tr>\n",
       "      <th>0</th>\n",
       "      <td>1</td>\n",
       "      <td>0</td>\n",
       "      <td>3</td>\n",
       "      <td>Braund, Mr. Owen Harris</td>\n",
       "      <td>male</td>\n",
       "      <td>22.0</td>\n",
       "      <td>1</td>\n",
       "      <td>0</td>\n",
       "      <td>A/5 21171</td>\n",
       "      <td>7.2500</td>\n",
       "      <td>NaN</td>\n",
       "      <td>S</td>\n",
       "    </tr>\n",
       "    <tr>\n",
       "      <th>1</th>\n",
       "      <td>2</td>\n",
       "      <td>1</td>\n",
       "      <td>1</td>\n",
       "      <td>Cumings, Mrs. John Bradley (Florence Briggs Th...</td>\n",
       "      <td>female</td>\n",
       "      <td>38.0</td>\n",
       "      <td>1</td>\n",
       "      <td>0</td>\n",
       "      <td>PC 17599</td>\n",
       "      <td>71.2833</td>\n",
       "      <td>C85</td>\n",
       "      <td>C</td>\n",
       "    </tr>\n",
       "    <tr>\n",
       "      <th>2</th>\n",
       "      <td>3</td>\n",
       "      <td>1</td>\n",
       "      <td>3</td>\n",
       "      <td>Heikkinen, Miss. Laina</td>\n",
       "      <td>female</td>\n",
       "      <td>26.0</td>\n",
       "      <td>0</td>\n",
       "      <td>0</td>\n",
       "      <td>STON/O2. 3101282</td>\n",
       "      <td>7.9250</td>\n",
       "      <td>NaN</td>\n",
       "      <td>S</td>\n",
       "    </tr>\n",
       "    <tr>\n",
       "      <th>3</th>\n",
       "      <td>4</td>\n",
       "      <td>1</td>\n",
       "      <td>1</td>\n",
       "      <td>Futrelle, Mrs. Jacques Heath (Lily May Peel)</td>\n",
       "      <td>female</td>\n",
       "      <td>35.0</td>\n",
       "      <td>1</td>\n",
       "      <td>0</td>\n",
       "      <td>113803</td>\n",
       "      <td>53.1000</td>\n",
       "      <td>C123</td>\n",
       "      <td>S</td>\n",
       "    </tr>\n",
       "    <tr>\n",
       "      <th>4</th>\n",
       "      <td>5</td>\n",
       "      <td>0</td>\n",
       "      <td>3</td>\n",
       "      <td>Allen, Mr. William Henry</td>\n",
       "      <td>male</td>\n",
       "      <td>35.0</td>\n",
       "      <td>0</td>\n",
       "      <td>0</td>\n",
       "      <td>373450</td>\n",
       "      <td>8.0500</td>\n",
       "      <td>NaN</td>\n",
       "      <td>S</td>\n",
       "    </tr>\n",
       "    <tr>\n",
       "      <th>...</th>\n",
       "      <td>...</td>\n",
       "      <td>...</td>\n",
       "      <td>...</td>\n",
       "      <td>...</td>\n",
       "      <td>...</td>\n",
       "      <td>...</td>\n",
       "      <td>...</td>\n",
       "      <td>...</td>\n",
       "      <td>...</td>\n",
       "      <td>...</td>\n",
       "      <td>...</td>\n",
       "      <td>...</td>\n",
       "    </tr>\n",
       "    <tr>\n",
       "      <th>886</th>\n",
       "      <td>887</td>\n",
       "      <td>0</td>\n",
       "      <td>2</td>\n",
       "      <td>Montvila, Rev. Juozas</td>\n",
       "      <td>male</td>\n",
       "      <td>27.0</td>\n",
       "      <td>0</td>\n",
       "      <td>0</td>\n",
       "      <td>211536</td>\n",
       "      <td>13.0000</td>\n",
       "      <td>NaN</td>\n",
       "      <td>S</td>\n",
       "    </tr>\n",
       "    <tr>\n",
       "      <th>887</th>\n",
       "      <td>888</td>\n",
       "      <td>1</td>\n",
       "      <td>1</td>\n",
       "      <td>Graham, Miss. Margaret Edith</td>\n",
       "      <td>female</td>\n",
       "      <td>19.0</td>\n",
       "      <td>0</td>\n",
       "      <td>0</td>\n",
       "      <td>112053</td>\n",
       "      <td>30.0000</td>\n",
       "      <td>B42</td>\n",
       "      <td>S</td>\n",
       "    </tr>\n",
       "    <tr>\n",
       "      <th>888</th>\n",
       "      <td>889</td>\n",
       "      <td>0</td>\n",
       "      <td>3</td>\n",
       "      <td>Johnston, Miss. Catherine Helen \"Carrie\"</td>\n",
       "      <td>female</td>\n",
       "      <td>NaN</td>\n",
       "      <td>1</td>\n",
       "      <td>2</td>\n",
       "      <td>W./C. 6607</td>\n",
       "      <td>23.4500</td>\n",
       "      <td>NaN</td>\n",
       "      <td>S</td>\n",
       "    </tr>\n",
       "    <tr>\n",
       "      <th>889</th>\n",
       "      <td>890</td>\n",
       "      <td>1</td>\n",
       "      <td>1</td>\n",
       "      <td>Behr, Mr. Karl Howell</td>\n",
       "      <td>male</td>\n",
       "      <td>26.0</td>\n",
       "      <td>0</td>\n",
       "      <td>0</td>\n",
       "      <td>111369</td>\n",
       "      <td>30.0000</td>\n",
       "      <td>C148</td>\n",
       "      <td>C</td>\n",
       "    </tr>\n",
       "    <tr>\n",
       "      <th>890</th>\n",
       "      <td>891</td>\n",
       "      <td>0</td>\n",
       "      <td>3</td>\n",
       "      <td>Dooley, Mr. Patrick</td>\n",
       "      <td>male</td>\n",
       "      <td>32.0</td>\n",
       "      <td>0</td>\n",
       "      <td>0</td>\n",
       "      <td>370376</td>\n",
       "      <td>7.7500</td>\n",
       "      <td>NaN</td>\n",
       "      <td>Q</td>\n",
       "    </tr>\n",
       "  </tbody>\n",
       "</table>\n",
       "<p>891 rows × 12 columns</p>\n",
       "</div>"
      ],
      "text/plain": [
       "     PassengerId  Survived  Pclass  \\\n",
       "0              1         0       3   \n",
       "1              2         1       1   \n",
       "2              3         1       3   \n",
       "3              4         1       1   \n",
       "4              5         0       3   \n",
       "..           ...       ...     ...   \n",
       "886          887         0       2   \n",
       "887          888         1       1   \n",
       "888          889         0       3   \n",
       "889          890         1       1   \n",
       "890          891         0       3   \n",
       "\n",
       "                                                  Name     Sex   Age  SibSp  \\\n",
       "0                              Braund, Mr. Owen Harris    male  22.0      1   \n",
       "1    Cumings, Mrs. John Bradley (Florence Briggs Th...  female  38.0      1   \n",
       "2                               Heikkinen, Miss. Laina  female  26.0      0   \n",
       "3         Futrelle, Mrs. Jacques Heath (Lily May Peel)  female  35.0      1   \n",
       "4                             Allen, Mr. William Henry    male  35.0      0   \n",
       "..                                                 ...     ...   ...    ...   \n",
       "886                              Montvila, Rev. Juozas    male  27.0      0   \n",
       "887                       Graham, Miss. Margaret Edith  female  19.0      0   \n",
       "888           Johnston, Miss. Catherine Helen \"Carrie\"  female   NaN      1   \n",
       "889                              Behr, Mr. Karl Howell    male  26.0      0   \n",
       "890                                Dooley, Mr. Patrick    male  32.0      0   \n",
       "\n",
       "     Parch            Ticket     Fare Cabin Embarked  \n",
       "0        0         A/5 21171   7.2500   NaN        S  \n",
       "1        0          PC 17599  71.2833   C85        C  \n",
       "2        0  STON/O2. 3101282   7.9250   NaN        S  \n",
       "3        0            113803  53.1000  C123        S  \n",
       "4        0            373450   8.0500   NaN        S  \n",
       "..     ...               ...      ...   ...      ...  \n",
       "886      0            211536  13.0000   NaN        S  \n",
       "887      0            112053  30.0000   B42        S  \n",
       "888      2        W./C. 6607  23.4500   NaN        S  \n",
       "889      0            111369  30.0000  C148        C  \n",
       "890      0            370376   7.7500   NaN        Q  \n",
       "\n",
       "[891 rows x 12 columns]"
      ]
     },
     "execution_count": 3,
     "metadata": {},
     "output_type": "execute_result"
    }
   ],
   "source": [
    "train"
   ]
  },
  {
   "cell_type": "code",
   "execution_count": 4,
   "id": "66a9b695",
   "metadata": {},
   "outputs": [
    {
     "data": {
      "text/html": [
       "<div>\n",
       "<style scoped>\n",
       "    .dataframe tbody tr th:only-of-type {\n",
       "        vertical-align: middle;\n",
       "    }\n",
       "\n",
       "    .dataframe tbody tr th {\n",
       "        vertical-align: top;\n",
       "    }\n",
       "\n",
       "    .dataframe thead th {\n",
       "        text-align: right;\n",
       "    }\n",
       "</style>\n",
       "<table border=\"1\" class=\"dataframe\">\n",
       "  <thead>\n",
       "    <tr style=\"text-align: right;\">\n",
       "      <th></th>\n",
       "      <th>PassengerId</th>\n",
       "      <th>Pclass</th>\n",
       "      <th>Name</th>\n",
       "      <th>Sex</th>\n",
       "      <th>Age</th>\n",
       "      <th>SibSp</th>\n",
       "      <th>Parch</th>\n",
       "      <th>Ticket</th>\n",
       "      <th>Fare</th>\n",
       "      <th>Cabin</th>\n",
       "      <th>Embarked</th>\n",
       "    </tr>\n",
       "  </thead>\n",
       "  <tbody>\n",
       "    <tr>\n",
       "      <th>0</th>\n",
       "      <td>892</td>\n",
       "      <td>3</td>\n",
       "      <td>Kelly, Mr. James</td>\n",
       "      <td>male</td>\n",
       "      <td>34.5</td>\n",
       "      <td>0</td>\n",
       "      <td>0</td>\n",
       "      <td>330911</td>\n",
       "      <td>7.8292</td>\n",
       "      <td>NaN</td>\n",
       "      <td>Q</td>\n",
       "    </tr>\n",
       "    <tr>\n",
       "      <th>1</th>\n",
       "      <td>893</td>\n",
       "      <td>3</td>\n",
       "      <td>Wilkes, Mrs. James (Ellen Needs)</td>\n",
       "      <td>female</td>\n",
       "      <td>47.0</td>\n",
       "      <td>1</td>\n",
       "      <td>0</td>\n",
       "      <td>363272</td>\n",
       "      <td>7.0000</td>\n",
       "      <td>NaN</td>\n",
       "      <td>S</td>\n",
       "    </tr>\n",
       "    <tr>\n",
       "      <th>2</th>\n",
       "      <td>894</td>\n",
       "      <td>2</td>\n",
       "      <td>Myles, Mr. Thomas Francis</td>\n",
       "      <td>male</td>\n",
       "      <td>62.0</td>\n",
       "      <td>0</td>\n",
       "      <td>0</td>\n",
       "      <td>240276</td>\n",
       "      <td>9.6875</td>\n",
       "      <td>NaN</td>\n",
       "      <td>Q</td>\n",
       "    </tr>\n",
       "    <tr>\n",
       "      <th>3</th>\n",
       "      <td>895</td>\n",
       "      <td>3</td>\n",
       "      <td>Wirz, Mr. Albert</td>\n",
       "      <td>male</td>\n",
       "      <td>27.0</td>\n",
       "      <td>0</td>\n",
       "      <td>0</td>\n",
       "      <td>315154</td>\n",
       "      <td>8.6625</td>\n",
       "      <td>NaN</td>\n",
       "      <td>S</td>\n",
       "    </tr>\n",
       "    <tr>\n",
       "      <th>4</th>\n",
       "      <td>896</td>\n",
       "      <td>3</td>\n",
       "      <td>Hirvonen, Mrs. Alexander (Helga E Lindqvist)</td>\n",
       "      <td>female</td>\n",
       "      <td>22.0</td>\n",
       "      <td>1</td>\n",
       "      <td>1</td>\n",
       "      <td>3101298</td>\n",
       "      <td>12.2875</td>\n",
       "      <td>NaN</td>\n",
       "      <td>S</td>\n",
       "    </tr>\n",
       "    <tr>\n",
       "      <th>...</th>\n",
       "      <td>...</td>\n",
       "      <td>...</td>\n",
       "      <td>...</td>\n",
       "      <td>...</td>\n",
       "      <td>...</td>\n",
       "      <td>...</td>\n",
       "      <td>...</td>\n",
       "      <td>...</td>\n",
       "      <td>...</td>\n",
       "      <td>...</td>\n",
       "      <td>...</td>\n",
       "    </tr>\n",
       "    <tr>\n",
       "      <th>413</th>\n",
       "      <td>1305</td>\n",
       "      <td>3</td>\n",
       "      <td>Spector, Mr. Woolf</td>\n",
       "      <td>male</td>\n",
       "      <td>NaN</td>\n",
       "      <td>0</td>\n",
       "      <td>0</td>\n",
       "      <td>A.5. 3236</td>\n",
       "      <td>8.0500</td>\n",
       "      <td>NaN</td>\n",
       "      <td>S</td>\n",
       "    </tr>\n",
       "    <tr>\n",
       "      <th>414</th>\n",
       "      <td>1306</td>\n",
       "      <td>1</td>\n",
       "      <td>Oliva y Ocana, Dona. Fermina</td>\n",
       "      <td>female</td>\n",
       "      <td>39.0</td>\n",
       "      <td>0</td>\n",
       "      <td>0</td>\n",
       "      <td>PC 17758</td>\n",
       "      <td>108.9000</td>\n",
       "      <td>C105</td>\n",
       "      <td>C</td>\n",
       "    </tr>\n",
       "    <tr>\n",
       "      <th>415</th>\n",
       "      <td>1307</td>\n",
       "      <td>3</td>\n",
       "      <td>Saether, Mr. Simon Sivertsen</td>\n",
       "      <td>male</td>\n",
       "      <td>38.5</td>\n",
       "      <td>0</td>\n",
       "      <td>0</td>\n",
       "      <td>SOTON/O.Q. 3101262</td>\n",
       "      <td>7.2500</td>\n",
       "      <td>NaN</td>\n",
       "      <td>S</td>\n",
       "    </tr>\n",
       "    <tr>\n",
       "      <th>416</th>\n",
       "      <td>1308</td>\n",
       "      <td>3</td>\n",
       "      <td>Ware, Mr. Frederick</td>\n",
       "      <td>male</td>\n",
       "      <td>NaN</td>\n",
       "      <td>0</td>\n",
       "      <td>0</td>\n",
       "      <td>359309</td>\n",
       "      <td>8.0500</td>\n",
       "      <td>NaN</td>\n",
       "      <td>S</td>\n",
       "    </tr>\n",
       "    <tr>\n",
       "      <th>417</th>\n",
       "      <td>1309</td>\n",
       "      <td>3</td>\n",
       "      <td>Peter, Master. Michael J</td>\n",
       "      <td>male</td>\n",
       "      <td>NaN</td>\n",
       "      <td>1</td>\n",
       "      <td>1</td>\n",
       "      <td>2668</td>\n",
       "      <td>22.3583</td>\n",
       "      <td>NaN</td>\n",
       "      <td>C</td>\n",
       "    </tr>\n",
       "  </tbody>\n",
       "</table>\n",
       "<p>418 rows × 11 columns</p>\n",
       "</div>"
      ],
      "text/plain": [
       "     PassengerId  Pclass                                          Name  \\\n",
       "0            892       3                              Kelly, Mr. James   \n",
       "1            893       3              Wilkes, Mrs. James (Ellen Needs)   \n",
       "2            894       2                     Myles, Mr. Thomas Francis   \n",
       "3            895       3                              Wirz, Mr. Albert   \n",
       "4            896       3  Hirvonen, Mrs. Alexander (Helga E Lindqvist)   \n",
       "..           ...     ...                                           ...   \n",
       "413         1305       3                            Spector, Mr. Woolf   \n",
       "414         1306       1                  Oliva y Ocana, Dona. Fermina   \n",
       "415         1307       3                  Saether, Mr. Simon Sivertsen   \n",
       "416         1308       3                           Ware, Mr. Frederick   \n",
       "417         1309       3                      Peter, Master. Michael J   \n",
       "\n",
       "        Sex   Age  SibSp  Parch              Ticket      Fare Cabin Embarked  \n",
       "0      male  34.5      0      0              330911    7.8292   NaN        Q  \n",
       "1    female  47.0      1      0              363272    7.0000   NaN        S  \n",
       "2      male  62.0      0      0              240276    9.6875   NaN        Q  \n",
       "3      male  27.0      0      0              315154    8.6625   NaN        S  \n",
       "4    female  22.0      1      1             3101298   12.2875   NaN        S  \n",
       "..      ...   ...    ...    ...                 ...       ...   ...      ...  \n",
       "413    male   NaN      0      0           A.5. 3236    8.0500   NaN        S  \n",
       "414  female  39.0      0      0            PC 17758  108.9000  C105        C  \n",
       "415    male  38.5      0      0  SOTON/O.Q. 3101262    7.2500   NaN        S  \n",
       "416    male   NaN      0      0              359309    8.0500   NaN        S  \n",
       "417    male   NaN      1      1                2668   22.3583   NaN        C  \n",
       "\n",
       "[418 rows x 11 columns]"
      ]
     },
     "execution_count": 4,
     "metadata": {},
     "output_type": "execute_result"
    }
   ],
   "source": [
    "test"
   ]
  },
  {
   "cell_type": "markdown",
   "id": "d0c28d0f",
   "metadata": {},
   "source": [
    "For this VQC example we will choose variables which we know will allow for the algorithm to perform well, namely:\n",
    "\n",
    "- `is_child` (i.e. under 12 years old)\n",
    "- `Pclass_1` (Passenger in first class)\n",
    "- `Pclass_2` (Passenger in second class)\n",
    "- `Sex_female` (Passenger is a woman)\n",
    "\n",
    "We have chosen these variables because we know that children and women from the higher classes had a better survival rate on the Titanic. \n",
    "\n",
    "Having defined our problem, we are now ready to construct the VQC.\n"
   ]
  },
  {
   "cell_type": "markdown",
   "id": "81fe79fd",
   "metadata": {},
   "source": [
    "## Constructing the VQC\n",
    "\n",
    "### Data Embedding\n",
    "\n",
    "To construct a VQC one needs to embed a parameterised quantum circuit into the classical classifier toolchain. As quantum computers work in a different paradigm from classical computers, this is more complicated than simply replacing the classical model with a quantum model. To adjust from classical data to quantum data, the quantum part of the algorithm therefore must contain a data encoding stage, often called the 'feature map' stage. Introductions to feature mapping and data encoding are available from Pennylane [here](https://pennylane.ai/qml/glossary/quantum_feature_map) and [here](https://pennylane.ai/qml/glossary/quantum_embedding). Qiskit also has a [quantum machine learning package](https://qiskit.org/ecosystem/machine-learning/) which can be used for similar examples.\n",
    "\n",
    "Since we have only four variables, which are all Booleans, we can use a very simple embedding, *Basis Embedding*. Basis embedding associates each input with a computational basis state of a qubit system. Thus, we can encode the Booleans as $\\vert 0 \\rangle$ for `False` and $\\vert 1 \\rangle$ for `True`. Thus, if a passenger is a female child who is in first class, the embedding would take the form \n",
    "\n",
    "$$\n",
    "1101\\rightarrow \\vert 1101 \\rangle.\n",
    "$$\n",
    "\n",
    "We use the `BasisEmbedding` from Pennylane."
   ]
  },
  {
   "cell_type": "code",
   "execution_count": 5,
   "id": "3f07a5b6",
   "metadata": {},
   "outputs": [],
   "source": [
    "def dataEmbedding(x):\n",
    "    qml.BasisEmbedding(x, wires=range(0, n_qubits))"
   ]
  },
  {
   "cell_type": "markdown",
   "id": "52ab3425",
   "metadata": {},
   "source": [
    "### Constructing the model\n",
    "\n",
    "Now that we have encoded the data onto the device, we can now build out model (also known as the ansatz). For the VQC, the model is a parameterised quantum circuit with a set of features which can be trained and updated by the optimiser. When constructing a suitable model, one needs to consider two circuit characteristics:\n",
    "\n",
    "- Expressibility: We define expressibility as a circuit’s ability to generate (pure) states that are well representative of the Hilbert space.\n",
    "- Entanglement: How entangled the system is.\n",
    "\n",
    "More information on calculating the expressibility and entanglement of a circuit is available in this [paper](https://arxiv.org/abs/1905.10876).\n",
    "\n",
    "A single Layer of the chosen model has the form (note, here we use qiskit only for its circuit visualisation)"
   ]
  },
  {
   "cell_type": "code",
   "execution_count": 6,
   "id": "8fe44b35",
   "metadata": {},
   "outputs": [
    {
     "data": {
      "image/png": "[encoded data removed]",
      "text/plain": [
       "<Figure size 705.552x367.889 with 1 Axes>"
      ]
     },
     "execution_count": 6,
     "metadata": {},
     "output_type": "execute_result"
    }
   ],
   "source": [
    "from qiskit import QuantumCircuit\n",
    "from qiskit.circuit import Parameter\n",
    "from qiskit.visualization import *\n",
    "\n",
    "qc = QuantumCircuit(4)\n",
    "for i in range(4):\n",
    "    qc.rz(Parameter(\"p%i\" %i), i)\n",
    "    qc.ry(Parameter(\"t%i\" %(i)), i)\n",
    "    qc.rz(Parameter(\"w%i\" %(i)), i)\n",
    "\n",
    "for i in range(3):\n",
    "    qc.cx(i, i+1)\n",
    "qc.cx(3, 0)\n",
    "    \n",
    "qc.draw('mpl')"
   ]
  },
  {
   "cell_type": "markdown",
   "id": "e04240dc",
   "metadata": {},
   "source": [
    "In Pennylane we build the layer using the `qml.Rot` which has the form \n",
    "\n",
    "$$\n",
    "R(\\phi, \\theta, \\omega) = RZ(\\omega) RY(\\theta) RZ(\\phi) = \\begin{pmatrix} e^{-i(\\phi+\\omega)/2} \\cos(\\theta/2) & -e^{i(\\phi-\\omega)/2} \\sin(\\theta/2) \\\\ e^{-i(\\phi-\\omega)/2} \\sin(\\theta/2) & e^{i(\\phi+\\omega)/2} \\cos(\\theta/2) \\end{pmatrix}.\n",
    "$$\n",
    "\n",
    "and thus the Layer can be built easily using Pennylane"
   ]
  },
  {
   "cell_type": "code",
   "execution_count": 7,
   "id": "a1e9bc8d",
   "metadata": {},
   "outputs": [],
   "source": [
    "def layer(W):\n",
    "    \n",
    "    for i in range(n_qubits):\n",
    "        qml.Rot(W[i,0], W[i,1], W[i,2], wires=i)\n",
    "        \n",
    "    for i in range(n_qubits-1):\n",
    "        qml.CNOT(wires=[i, i+1])\n",
    "    qml.CNOT(wires=[n_qubits-1, 0])"
   ]
  },
  {
   "cell_type": "markdown",
   "id": "6b418c47",
   "metadata": {},
   "source": [
    "The expressibility of the circuit is introduced through the initial rotations in the Layer, which are parameterised RZ, RY and RZ rotations, the angles of which will be adjusted by the classical optimiser. These rotations construct a superposition of the compuational basis on each of the circuits individually.\n",
    "\n",
    "The circuit is then entangled with the series of `CNOT` gate operations. \n",
    "\n",
    "The Layer can then be applied iteratively, increasing the number of features in the model. The subsequent applications of the Layer increases the expressibility and entanglement of the circuit. However, there are several things that must be considered when deciding how many iterations to apply. Firstly, from a more conventional stance, one does not want to over train by having too many parameters. Therefore, finding a good amount of layers wihtout overtraining is important. Secondly, from a quantum point of view, more iterations result in deeper circuits. In the Noisy Intermediate-Scale Quantum (NISQ) era, circuit depth is one of the most important factors contributing to the fidelity of the results from the device. The deeper the circuit, the more susceptable the circuit becomes to noise. See this [paper](https://arxiv.org/abs/1905.10876) for more information. "
   ]
  },
  {
   "cell_type": "markdown",
   "id": "a06e97d1",
   "metadata": {},
   "source": [
    "### Building the circuit\n",
    "\n",
    "We are now ready to build the full circuit, including the data embedding stage and the iterative application of the Layers. \n",
    "\n",
    "Here we \"borrow\" the Machine Learning term weights for the parameters of the rotations."
   ]
  },
  {
   "cell_type": "code",
   "execution_count": 8,
   "id": "7125698e",
   "metadata": {},
   "outputs": [],
   "source": [
    "@qml.qnode(dev, interface=\"autograd\")\n",
    "def circuitBuild(weights, x):\n",
    "    \n",
    "    dataEmbedding(x)\n",
    "    \n",
    "    for W in weights:\n",
    "        layer(W)\n",
    "        \n",
    "    return qml.expval(qml.PauliZ(0))"
   ]
  },
  {
   "cell_type": "code",
   "execution_count": 10,
   "id": "83b36099",
   "metadata": {},
   "outputs": [],
   "source": [
    "qml.drawer.use_style('sketch')"
   ]
  },
  {
   "cell_type": "code",
   "execution_count": 20,
   "id": "c1afde02",
   "metadata": {},
   "outputs": [
    {
     "data": {
      "image/png": "[encoded data removed]",
      "text/plain": [
       "<Figure size 1400x500 with 1 Axes>"
      ]
     },
     "metadata": {},
     "output_type": "display_data"
    }
   ],
   "source": [
    "qml.draw_mpl(circuitBuild)([npl.zeros((n_qubits,3))]*n_layers, npl.zeros(n_qubits))\n",
    "plt.show()"
   ]
  },
  {
   "cell_type": "markdown",
   "id": "eeb72c17",
   "metadata": {},
   "source": [
    "Let us now assume we want to add a classical bias parameter. We add this to the VQC by defining a final model with a classical node that uses the first variable and then feeds the rest into the quantum node. Before this, we reshape the list of remaining variables for easy use in the quantum node."
   ]
  },
  {
   "cell_type": "code",
   "execution_count": 21,
   "id": "34f25006",
   "metadata": {},
   "outputs": [],
   "source": [
    "def variational_classifier(weights, bias, x):\n",
    "    return circuitBuild(weights, x) + bias"
   ]
  },
  {
   "cell_type": "markdown",
   "id": "c1ed31e0",
   "metadata": {},
   "source": [
    "### Cost\n",
    "\n",
    "In supervised learning, the cost function is often the sum of the loss function and a regulariser. We will do the same here and use standard square loss. "
   ]
  },
  {
   "cell_type": "code",
   "execution_count": 22,
   "id": "e8c72026",
   "metadata": {},
   "outputs": [],
   "source": [
    "def squareLoss(labels, predictions):\n",
    "    \n",
    "    loss = 0\n",
    "    \n",
    "    for l, p in zip(labels, predictions):\n",
    "        loss = loss + (l-p)**2\n",
    "        \n",
    "    loss = loss/len(labels)\n",
    "    \n",
    "    return loss"
   ]
  },
  {
   "cell_type": "markdown",
   "id": "d67ca8ff",
   "metadata": {},
   "source": [
    "To keep track of how well the model is performing, we also define the accuracy given the target labels and model predictions."
   ]
  },
  {
   "cell_type": "code",
   "execution_count": 23,
   "id": "ee71ff56",
   "metadata": {},
   "outputs": [],
   "source": [
    "def accuracy(labels, predictions):\n",
    "    \n",
    "    loss = 0\n",
    "    \n",
    "    for l, p in zip(labels, predictions):\n",
    "        if abs(l-p) < 1e-5:\n",
    "            loss = loss + 1\n",
    "    \n",
    "    loss = loss/len(labels)\n",
    "        \n",
    "    return loss"
   ]
  },
  {
   "cell_type": "markdown",
   "id": "7ba248f7",
   "metadata": {},
   "source": [
    "The cost will depend on the data, which here are the features and labels considered in the current iteration of the optimisation."
   ]
  },
  {
   "cell_type": "code",
   "execution_count": 24,
   "id": "d4b9af99",
   "metadata": {},
   "outputs": [],
   "source": [
    "def cost(weights, bias, X, Y):\n",
    "    predictions = [variational_classifier(weights, bias, x) for x in X]\n",
    "    return squareLoss(Y, predictions)"
   ]
  },
  {
   "cell_type": "markdown",
   "id": "a840368f",
   "metadata": {},
   "source": [
    "### Optimisation\n",
    "\n",
    "We are now ready to perform the training of the model for our Titanic classification problem. Here we prepare and process the data from the Titanic `train.csv` data set. "
   ]
  },
  {
   "cell_type": "code",
   "execution_count": 25,
   "id": "b8f97d48",
   "metadata": {},
   "outputs": [],
   "source": [
    "### Read in file\n",
    "# train = pd.read_csv('TitanicData/train.csv')\n",
    "\n",
    "# change data type to a string\n",
    "train['Pclass'] = train['Pclass'].astype(str)\n",
    "\n",
    "# Add columns with Boolean type values for chosen variables\n",
    "train = pd.concat([train, pd.get_dummies(train[['Pclass', 'Sex', 'Embarked']])], axis=1)"
   ]
  },
  {
   "cell_type": "markdown",
   "id": "7df4a7fc",
   "metadata": {},
   "source": [
    "The dataset is not complete, and some ages are missing. So we fix the missing ages with the median age, and a value between 0 and 11 for children."
   ]
  },
  {
   "cell_type": "code",
   "execution_count": 26,
   "id": "91431c50",
   "metadata": {},
   "outputs": [],
   "source": [
    "train['Age'] = train['Age'].fillna(train['Age'].median())\n",
    "train['is_child'] = train['Age'].map(lambda x: 1 if x < 12 else 0)"
   ]
  },
  {
   "cell_type": "markdown",
   "id": "6b6b05a2",
   "metadata": {},
   "source": [
    "We now use the `train_test_split` from `sklearn` to split our dataset randomly into test and train subsets.  "
   ]
  },
  {
   "cell_type": "code",
   "execution_count": 27,
   "id": "168fbefb",
   "metadata": {},
   "outputs": [],
   "source": [
    "model_vars = ['is_child', 'Pclass_1', 'Pclass_2', 'Sex_female']\n",
    "X_train, X_test, y_train, y_test = train_test_split(train[model_vars], train['Survived'], \n",
    "                                                    test_size=0.10, random_state=42, \n",
    "                                                    stratify=train['Survived'])\n",
    "\n",
    "X_train = npl.array(X_train.values, requires_grad=False)\n",
    "Y_train = npl.array(y_train.values * 2 - npl.ones(len(y_train)), requires_grad=False)"
   ]
  },
  {
   "cell_type": "markdown",
   "id": "5b9c6e68",
   "metadata": {},
   "source": [
    "Here `requires_grad` marks an argument as trainable. More info on the PennyLane NumPy interface is available [here](https://docs.pennylane.ai/en/stable/introduction/interfaces/numpy.html). \n",
    "\n",
    "Now we have prepared the data, we can optimise the rotation parameters of the model using the `AdamOptimizer`."
   ]
  },
  {
   "cell_type": "code",
   "execution_count": 28,
   "id": "08ef5f7d",
   "metadata": {},
   "outputs": [],
   "source": [
    "### Set initial parameters\n",
    "npl.random.seed(0)\n",
    "weights_init = 0.01 * npl.random.randn(n_layers, n_qubits, 3, requires_grad=True)\n",
    "bias_init    = npl.array(0.0, requires_grad=True)"
   ]
  },
  {
   "cell_type": "code",
   "execution_count": 29,
   "id": "229b01e9",
   "metadata": {},
   "outputs": [],
   "source": [
    "opt        = AdamOptimizer(0.125)                 # Set appropriate learning rate for Adam\n",
    "n_it       = 35                                   # Number of iterations\n",
    "batch_size = math.floor(len(X_train)/n_it)        # Determine batch size"
   ]
  },
  {
   "cell_type": "code",
   "execution_count": 30,
   "id": "0c41639b",
   "metadata": {},
   "outputs": [
    {
     "name": "stdout",
     "output_type": "stream",
     "text": [
      "Iter:     1 | Cost: 2.3009047 | Accuracy: 0.3657928 \n",
      "Iter:     2 | Cost: 2.0069723 | Accuracy: 0.3657928 \n",
      "Iter:     3 | Cost: 1.6768622 | Accuracy: 0.3657928 \n",
      "Iter:     4 | Cost: 1.4171261 | Accuracy: 0.5255930 \n",
      "Iter:     5 | Cost: 1.2510112 | Accuracy: 0.6167291 \n",
      "Iter:     6 | Cost: 1.1688063 | Accuracy: 0.6167291 \n",
      "Iter:     7 | Cost: 1.1336431 | Accuracy: 0.6167291 \n",
      "Iter:     8 | Cost: 1.0991138 | Accuracy: 0.6167291 \n",
      "Iter:     9 | Cost: 1.0469797 | Accuracy: 0.6167291 \n",
      "Iter:    10 | Cost: 0.9871259 | Accuracy: 0.6167291 \n",
      "Iter:    11 | Cost: 0.9374590 | Accuracy: 0.6167291 \n",
      "Iter:    12 | Cost: 0.8986214 | Accuracy: 0.6167291 \n",
      "Iter:    13 | Cost: 0.8667102 | Accuracy: 0.6779026 \n",
      "Iter:    14 | Cost: 0.8460376 | Accuracy: 0.7802747 \n",
      "Iter:    15 | Cost: 0.8202597 | Accuracy: 0.7802747 \n",
      "Iter:    16 | Cost: 0.7953863 | Accuracy: 0.7802747 \n",
      "Iter:    17 | Cost: 0.7581353 | Accuracy: 0.7802747 \n",
      "Iter:    18 | Cost: 0.7289362 | Accuracy: 0.7802747 \n",
      "Iter:    19 | Cost: 0.7101794 | Accuracy: 0.7802747 \n",
      "Iter:    20 | Cost: 0.7028200 | Accuracy: 0.7915106 \n",
      "Iter:    21 | Cost: 0.7021316 | Accuracy: 0.7840200 \n",
      "Iter:    22 | Cost: 0.6965682 | Accuracy: 0.7840200 \n",
      "Iter:    23 | Cost: 0.6967811 | Accuracy: 0.7840200 \n",
      "Iter:    24 | Cost: 0.6911936 | Accuracy: 0.7840200 \n",
      "Iter:    25 | Cost: 0.6814144 | Accuracy: 0.7840200 \n",
      "Iter:    26 | Cost: 0.6754717 | Accuracy: 0.7840200 \n",
      "Iter:    27 | Cost: 0.6717139 | Accuracy: 0.7840200 \n",
      "Iter:    28 | Cost: 0.6683102 | Accuracy: 0.7840200 \n",
      "Iter:    29 | Cost: 0.6668538 | Accuracy: 0.7840200 \n",
      "Iter:    30 | Cost: 0.6682391 | Accuracy: 0.7840200 \n",
      "Iter:    31 | Cost: 0.6663942 | Accuracy: 0.7840200 \n",
      "Iter:    32 | Cost: 0.6654684 | Accuracy: 0.7840200 \n",
      "Iter:    33 | Cost: 0.6629519 | Accuracy: 0.7840200 \n",
      "Iter:    34 | Cost: 0.6627042 | Accuracy: 0.7840200 \n",
      "Iter:    35 | Cost: 0.6651312 | Accuracy: 0.7840200 \n"
     ]
    }
   ],
   "source": [
    "weights = weights_init\n",
    "bias    = bias_init\n",
    "\n",
    "### Run Optimisation\n",
    "\n",
    "for it in range(n_it):\n",
    "\n",
    "    # Update trainable arguments with one step of the optimizer.                                                                                                                                   \n",
    "    batch_index         = npl.random.randint(0, len(X_train), (batch_size,))\n",
    "    X_batch             = X_train[batch_index]\n",
    "    Y_batch             = Y_train[batch_index]\n",
    "    weights, bias, _, _ = opt.step(cost, weights, bias, X_batch, Y_batch)\n",
    "\n",
    "    # Compute accuracy                                                                                                                                                            \n",
    "    predictions         = [npl.sign(variational_classifier(weights, bias, x)) for x in X_train]\n",
    "    acc                 = accuracy(Y_train, predictions)\n",
    "\n",
    "    print(\n",
    "        \"Iter: {:5d} | Cost: {:0.7f} | Accuracy: {:0.7f} \".format(\n",
    "            it + 1, cost(weights, bias, X_train, Y_train), acc\n",
    "        )\n",
    "    )"
   ]
  },
  {
   "cell_type": "code",
   "execution_count": 31,
   "id": "6b265bd2",
   "metadata": {},
   "outputs": [
    {
     "data": {
      "text/plain": [
       "0.7712374581939799"
      ]
     },
     "execution_count": 31,
     "metadata": {},
     "output_type": "execute_result"
    }
   ],
   "source": [
    "X_test = npl.array(X_test.values, requires_grad=False)\n",
    "Y_test = npl.array(y_test.values * 2 - npl.ones(len(y_test)), requires_grad=False)\n",
    "\n",
    "predictions = [npl.sign(variational_classifier(weights, bias, x)) for x in X_test]\n",
    "\n",
    "### Test model\n",
    "accuracy_score(Y_test, predictions)\n",
    "precision_score(Y_test, predictions)\n",
    "recall_score(Y_test, predictions)\n",
    "f1_score(Y_test, predictions, average='macro')"
   ]
  },
  {
   "cell_type": "markdown",
   "id": "fffcf74c",
   "metadata": {},
   "source": [
    "## Exercise: Modify your VQC\n",
    "\n",
    "We see that the model performs well, reaching an accuracy close to 80%. It is interesting to investigate the affect of different parts of the VQC. Below, try using a different model quantum circuit (see this [paper](https://arxiv.org/abs/1905.10876) for inspiration!) with different expressibility and entanglement. How does the model effect the training and accuracy?"
   ]
  },
  {
   "cell_type": "code",
   "execution_count": null,
   "id": "c2c35168",
   "metadata": {},
   "outputs": [],
   "source": [
    "@qml.qnode(dev, interface=\"autograd\")\n",
    "def new_circuitBuild(weights, x):\n",
    "    \n",
    "    ###\n",
    "    ### Your code here\n",
    "    ###\n",
    "        \n",
    "    return qml.expval(qml.PauliZ(0))"
   ]
  },
  {
   "cell_type": "markdown",
   "id": "947ed262",
   "metadata": {},
   "source": [
    "Currently, the measurement returns the expectation value of the `PauliZ` observable on wire 0. Do you kno why we do this? How does changing the measurement affect the model?"
   ]
  },
  {
   "cell_type": "code",
   "execution_count": null,
   "id": "3d3dbd99",
   "metadata": {},
   "outputs": [],
   "source": [
    "@qml.qnode(dev, interface=\"autograd\")\n",
    "def new_circuitBuild(weights, x):\n",
    "    \n",
    "    ###\n",
    "    ### Your code here\n",
    "    ###\n",
    "        \n",
    "    return ### How does the measurement effect the system?"
   ]
  }
 ],
 "metadata": {
  "kernelspec": {
   "display_name": ".venv",
   "language": "python",
   "name": "python3"
  },
  "language_info": {
   "codemirror_mode": {
    "name": "ipython",
    "version": 3
   },
   "file_extension": ".py",
   "mimetype": "text/x-python",
   "name": "python",
   "nbconvert_exporter": "python",
   "pygments_lexer": "ipython3",
   "version": "3.11.3"
  }
 },
 "nbformat": 4,
 "nbformat_minor": 5
}
