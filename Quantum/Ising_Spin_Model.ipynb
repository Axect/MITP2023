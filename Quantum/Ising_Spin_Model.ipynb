{
 "cells": [
  {
   "cell_type": "markdown",
   "id": "0f62e35a",
   "metadata": {},
   "source": [
    "# QUBO: The Ising Model\n",
    "\n",
    "## MITP\n",
    "\n",
    "The Ising spin model can be used to closely simulate the mathematical structure of Quadratic Unconstrained Binary Optimization (QUBO) problems, which are prolific in quantum computing, specifically adiabatic quantum computing. The optimization landscape of the Ising model is non-convex, which can make finding global minima challenging. Quantum Annealers can be used to combat this challenge, and can find the low energy state of the Ising model.\n",
    "\n",
    "Here we will construct the simple example of the three qubit Ising model, which has a Hamiltonian of the form \n",
    "\n",
    "$$\n",
    "H = - \\sum_{\\langle i j \\rangle} J_{ij} \\sigma_i \\sigma_j,\n",
    "$$\n",
    "\n",
    "in the absence of external fields. Each spin can be $+1$ or $-1$ and $J_{ij}$ are the nearest-neighbour coupling strengths.\n",
    "\n",
    "For simplicity, the first spin can be assumed to be in the “up” state (+1 eigenstate of Pauli-Z operator) and the coupling matrix can be set to $J=[-1, 1]$. The rotation angles for the other two spins are then optimized so that the energy of the system is minimized for the given couplings.\n",
    "\n",
    "**Here we will use PyTorch. Please make sure to pip install the `requirements.txt`.**"
   ]
  },
  {
   "cell_type": "code",
   "execution_count": 1,
   "id": "3546542e",
   "metadata": {},
   "outputs": [],
   "source": [
    "import torch\n",
    "from torch.autograd import Variable\n",
    "import pennylane as qml\n",
    "from pennylane import numpy as np\n",
    "\n",
    "import matplotlib\n",
    "import matplotlib.pyplot as plt"
   ]
  },
  {
   "cell_type": "code",
   "execution_count": 7,
   "id": "36c4960e-dc9a-4c36-8425-987bb0a522cd",
   "metadata": {},
   "outputs": [],
   "source": [
    "qml.drawer.use_style('sketch')"
   ]
  },
  {
   "cell_type": "markdown",
   "id": "9f6a0ea5",
   "metadata": {},
   "source": [
    "## Setting up the circuit\n",
    "\n",
    "We construct the three qubit system to represent three spins, with the first qubit in the “up” state."
   ]
  },
  {
   "cell_type": "code",
   "execution_count": 2,
   "id": "14168f21",
   "metadata": {},
   "outputs": [],
   "source": [
    "dev = qml.device(\"default.qubit\", wires=3)\n",
    "\n",
    "@qml.qnode(dev, interface=\"torch\")\n",
    "def circuit(p1, p2):\n",
    "    # We use the general Rot(phi,theta,omega,wires) single-qubit operation\n",
    "    qml.Rot(p1[0], p1[1], p1[2], wires=1)\n",
    "    qml.Rot(p2[0], p2[1], p2[2], wires=2)\n",
    "    return [qml.expval(qml.PauliZ(i)) for i in range(3)]"
   ]
  },
  {
   "cell_type": "code",
   "execution_count": 9,
   "id": "ee5ae11a-9823-4baf-9703-ae7ae0eeb148",
   "metadata": {},
   "outputs": [
    {
     "data": {
      "image/png": "[encoded data removed]",
      "text/plain": [
       "<Figure size 400x400 with 1 Axes>"
      ]
     },
     "metadata": {},
     "output_type": "display_data"
    }
   ],
   "source": [
    "qml.draw_mpl(circuit)(np.zeros(3), np.zeros(3))\n",
    "plt.show()"
   ]
  },
  {
   "cell_type": "markdown",
   "id": "c9a00159",
   "metadata": {},
   "source": [
    "Here, the cost function to be minimized is defined as the energy of the spin configuration, emulating the quantum annealer system."
   ]
  },
  {
   "cell_type": "code",
   "execution_count": 3,
   "id": "1aca568c",
   "metadata": {},
   "outputs": [],
   "source": [
    "def cost(var1, var2):\n",
    "    # the circuit function returns a numpy array of Pauli-Z expectation values\n",
    "    spins = circuit(var1, var2)\n",
    "\n",
    "    # the expectation value of Pauli-Z is +1 for spin up and -1 for spin down\n",
    "    energy = -(1 * spins[0] * spins[1]) - (-1 * spins[1] * spins[2])\n",
    "    return energy"
   ]
  },
  {
   "cell_type": "markdown",
   "id": "2c7f999b",
   "metadata": {},
   "source": [
    "## Exercise\n",
    "\n",
    "Test the system for a known state, e.g. the [$s_1$, $s_2$, $s_3$] = [1, -1, -1] spin configuration."
   ]
  },
  {
   "cell_type": "code",
   "execution_count": 4,
   "id": "eb0583cb",
   "metadata": {},
   "outputs": [],
   "source": [
    "### Your code here"
   ]
  },
  {
   "cell_type": "markdown",
   "id": "20a0c4f3",
   "metadata": {},
   "source": [
    "## Optimisation\n",
    "\n",
    "Here we very simply initialise the system using some random angles for the second and third qubit. "
   ]
  },
  {
   "cell_type": "code",
   "execution_count": 4,
   "id": "aa4184b7",
   "metadata": {},
   "outputs": [],
   "source": [
    "torch.manual_seed(56)\n",
    "p1 = Variable((np.pi * torch.rand(3, dtype=torch.float64)), requires_grad=True)\n",
    "p2 = Variable((np.pi * torch.rand(3, dtype=torch.float64)), requires_grad=True)\n",
    "\n",
    "var_init = [p1, p2]\n",
    "cost_init = cost(p1, p2)"
   ]
  },
  {
   "cell_type": "markdown",
   "id": "0b46cdf9",
   "metadata": {},
   "source": [
    "We can now use PyTorch to optimise the cost function to find the minimum of the spin model."
   ]
  },
  {
   "cell_type": "code",
   "execution_count": 5,
   "id": "a90fc688",
   "metadata": {},
   "outputs": [
    {
     "name": "stdout",
     "output_type": "stream",
     "text": [
      "Energy after step     5:  0.6846474 | Angles: [array([1.96323939, 1.93604492, 2.32767565]), array([0.65212549, 2.73080219, 2.4299563 ])] \n",
      "\n",
      "Energy after step    10: -1.0138530 | Angles: [array([1.96323939, 1.0136468 , 2.32767565]), array([0.65212549, 2.73225282, 2.4299563 ])] \n",
      "\n",
      "Energy after step    15: -1.8171995 | Angles: [array([1.96323939, 0.38483073, 2.32767565]), array([0.65212549, 2.85992571, 2.4299563 ])] \n",
      "\n",
      "Energy after step    20: -1.9686584 | Angles: [array([1.96323939, 0.13026452, 2.32767565]), array([0.65212549, 2.97097572, 2.4299563 ])] \n",
      "\n",
      "Energy after step    25: -1.9930403 | Angles: [array([1.96323939, 0.04302756, 2.32767565]), array([0.65212549, 3.04042222, 2.4299563 ])] \n",
      "\n",
      "Energy after step    30: -1.9980133 | Angles: [array([1.96323939, 0.01413292, 2.32767565]), array([0.65212549, 3.08179844, 2.4299563 ])] \n",
      "\n",
      "Energy after step    35: -1.9993550 | Angles: [array([1.96323939, 0.00463472, 2.32767565]), array([0.65212549, 3.10627578, 2.4299563 ])] \n",
      "\n",
      "Energy after step    40: -1.9997802 | Angles: [array([1.96323939e+00, 1.51911413e-03, 2.32767565e+00]), array([0.65212549, 3.12073668, 2.4299563 ])] \n",
      "\n",
      "Energy after step    45: -1.9999239 | Angles: [array([1.96323939e+00, 4.97829828e-04, 2.32767565e+00]), array([0.65212549, 3.12927707, 2.4299563 ])] \n",
      "\n",
      "Energy after step    50: -1.9999735 | Angles: [array([1.96323939e+00, 1.63134183e-04, 2.32767565e+00]), array([0.65212549, 3.13432035, 2.4299563 ])] \n",
      "\n",
      "Energy after step    55: -1.9999908 | Angles: [array([1.96323939e+00, 5.34564150e-05, 2.32767565e+00]), array([0.65212549, 3.13729842, 2.4299563 ])] \n",
      "\n",
      "Energy after step    60: -1.9999968 | Angles: [array([1.96323939e+00, 1.75166673e-05, 2.32767565e+00]), array([0.65212549, 3.13905695, 2.4299563 ])] \n",
      "\n",
      "Energy after step    65: -1.9999989 | Angles: [array([1.96323939e+00, 5.73986944e-06, 2.32767565e+00]), array([0.65212549, 3.14009534, 2.4299563 ])] \n",
      "\n",
      "Energy after step    70: -1.9999996 | Angles: [array([1.96323939e+00, 1.88084132e-06, 2.32767565e+00]), array([0.65212549, 3.14070851, 2.4299563 ])] \n",
      "\n",
      "Energy after step    75: -1.9999999 | Angles: [array([1.96323939e+00, 6.16314188e-07, 2.32767565e+00]), array([0.65212549, 3.14107057, 2.4299563 ])] \n",
      "\n",
      "Energy after step    80: -2.0000000 | Angles: [array([1.96323939e+00, 2.01953845e-07, 2.32767565e+00]), array([0.65212549, 3.14128437, 2.4299563 ])] \n",
      "\n",
      "Energy after step    85: -2.0000000 | Angles: [array([1.96323939e+00, 6.61762372e-08, 2.32767565e+00]), array([0.65212549, 3.14141062, 2.4299563 ])] \n",
      "\n",
      "Energy after step    90: -2.0000000 | Angles: [array([1.96323939e+00, 2.16846296e-08, 2.32767565e+00]), array([0.65212549, 3.14148516, 2.4299563 ])] \n",
      "\n",
      "Energy after step    95: -2.0000000 | Angles: [array([1.96323939e+00, 7.10561943e-09, 2.32767565e+00]), array([0.65212549, 3.14152918, 2.4299563 ])] \n",
      "\n",
      "Energy after step   100: -2.0000000 | Angles: [array([1.96323939e+00, 2.32836938e-09, 2.32767565e+00]), array([0.65212549, 3.14155517, 2.4299563 ])] \n",
      "\n"
     ]
    }
   ],
   "source": [
    "opt = torch.optim.SGD(var_init, lr=0.1)\n",
    "\n",
    "def closure():\n",
    "    opt.zero_grad()\n",
    "    loss = cost(p1, p2)\n",
    "    loss.backward()\n",
    "    return loss\n",
    "\n",
    "var_pt = [var_init]\n",
    "cost_pt = [cost_init]\n",
    "x = [0]\n",
    "\n",
    "for i in range(100):\n",
    "    opt.step(closure)\n",
    "    if (i + 1) % 5 == 0:\n",
    "        x.append(i)\n",
    "        p1n, p2n = opt.param_groups[0][\"params\"]\n",
    "        costn = cost(p1n, p2n)\n",
    "        var_pt.append([p1n, p2n])\n",
    "        cost_pt.append(costn)\n",
    "\n",
    "        # for clarity, the angles are printed as numpy arrays\n",
    "        print(\"Energy after step {:5d}: {: .7f} | Angles: {}\".format(\n",
    "            i+1, costn, [p1n.detach().numpy(), p2n.detach().numpy()]),\"\\n\"\n",
    "        )"
   ]
  },
  {
   "cell_type": "markdown",
   "id": "02a851c3",
   "metadata": {},
   "source": [
    "We see that the minimum state is the -2 spin configuration corresponding to [$s_1$, $s_2$, $s_3$] = [1,1,-1], which corresponds to $(\\phi, \\theta, \\omega) = (0,0,0)$ for the second spin, $s_2$, and the $(\\phi, \\theta, \\omega) = (0,\\pi,0)$ for the third spin, $s_3$."
   ]
  },
  {
   "cell_type": "code",
   "execution_count": 6,
   "id": "8dcc84b8",
   "metadata": {},
   "outputs": [
    {
     "data": {
      "image/png": "[encoded data removed]",
      "text/plain": [
       "<Figure size 600x400 with 1 Axes>"
      ]
     },
     "metadata": {},
     "output_type": "display_data"
    }
   ],
   "source": [
    "fig = plt.figure(figsize=(6, 4))\n",
    "\n",
    "# Enable processing the Torch trainable tensors\n",
    "with torch.no_grad():\n",
    "    plt.plot(x, cost_pt, label = 'global minimum')\n",
    "    plt.xlabel(\"Optimization steps\")\n",
    "    plt.ylabel(\"Cost / Energy\")\n",
    "    plt.legend()\n",
    "    plt.show()"
   ]
  },
  {
   "cell_type": "markdown",
   "id": "644e0507",
   "metadata": {},
   "source": [
    "## Exercise:\n",
    "\n",
    "Due to the complexity of the Ising spin model's optimisation space, it is easy to find local minima. Try using different initial conditions and check the model's ability to find the Global minimum."
   ]
  },
  {
   "cell_type": "code",
   "execution_count": null,
   "id": "41c7b445",
   "metadata": {},
   "outputs": [],
   "source": [
    "### Your code here"
   ]
  }
 ],
 "metadata": {
  "kernelspec": {
   "display_name": "Python 3 (ipykernel)",
   "language": "python",
   "name": "python3"
  },
  "language_info": {
   "codemirror_mode": {
    "name": "ipython",
    "version": 3
   },
   "file_extension": ".py",
   "mimetype": "text/x-python",
   "name": "python",
   "nbconvert_exporter": "python",
   "pygments_lexer": "ipython3",
   "version": "3.11.3"
  }
 },
 "nbformat": 4,
 "nbformat_minor": 5
}
