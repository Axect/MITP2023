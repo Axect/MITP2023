{
 "cells": [
  {
   "cell_type": "code",
   "execution_count": 1,
   "id": "813a67a8",
   "metadata": {},
   "outputs": [],
   "source": [
    "import torch\n",
    "import matplotlib.pyplot as plt\n",
    "import numpy as np"
   ]
  },
  {
   "cell_type": "code",
   "execution_count": 56,
   "id": "06db7d1f",
   "metadata": {},
   "outputs": [],
   "source": [
    "def generate_data(N):\n",
    "    X = torch.randint(0, 9, size = (N, 10))\n",
    "    num2s = torch.count_nonzero(X == 2, dim = -1)\n",
    "    num4s = torch.count_nonzero(X == 4, dim = -1)\n",
    "    \n",
    "    labels = (num4s > num2s)\n",
    "    \n",
    "    return X, labels.reshape(-1,1)"
   ]
  },
  {
   "cell_type": "code",
   "execution_count": 10,
   "id": "15deb049",
   "metadata": {},
   "outputs": [],
   "source": [
    "X, y = generate_data(123)"
   ]
  },
  {
   "cell_type": "code",
   "execution_count": 11,
   "id": "4c94c642",
   "metadata": {},
   "outputs": [
    {
     "data": {
      "text/plain": [
       "tensor([2, 4, 7, 4, 1, 0, 2, 5, 4, 1])"
      ]
     },
     "execution_count": 11,
     "metadata": {},
     "output_type": "execute_result"
    }
   ],
   "source": [
    "X[0]"
   ]
  },
  {
   "cell_type": "code",
   "execution_count": 12,
   "id": "ae467967",
   "metadata": {},
   "outputs": [
    {
     "data": {
      "text/plain": [
       "tensor(True)"
      ]
     },
     "execution_count": 12,
     "metadata": {},
     "output_type": "execute_result"
    }
   ],
   "source": [
    "y[0]"
   ]
  },
  {
   "cell_type": "code",
   "execution_count": 13,
   "id": "3c5598e2",
   "metadata": {},
   "outputs": [
    {
     "data": {
      "text/plain": [
       "tensor([[2, 4, 7,  ..., 5, 4, 1],\n",
       "        [1, 8, 0,  ..., 3, 7, 6],\n",
       "        [8, 5, 2,  ..., 3, 3, 4],\n",
       "        ...,\n",
       "        [5, 0, 7,  ..., 8, 1, 8],\n",
       "        [4, 2, 4,  ..., 8, 5, 6],\n",
       "        [5, 7, 5,  ..., 0, 2, 7]])"
      ]
     },
     "execution_count": 13,
     "metadata": {},
     "output_type": "execute_result"
    }
   ],
   "source": [
    "X"
   ]
  },
  {
   "cell_type": "code",
   "execution_count": 14,
   "id": "c225201a",
   "metadata": {},
   "outputs": [
    {
     "data": {
      "text/plain": [
       "torch.Size([123, 10])"
      ]
     },
     "execution_count": 14,
     "metadata": {},
     "output_type": "execute_result"
    }
   ],
   "source": [
    "X.shape"
   ]
  },
  {
   "cell_type": "code",
   "execution_count": 16,
   "id": "7a0e12ff",
   "metadata": {},
   "outputs": [],
   "source": [
    "embed_func = torch.nn.Embedding(10, embedding_dim=16)"
   ]
  },
  {
   "cell_type": "code",
   "execution_count": 18,
   "id": "c6d4019e",
   "metadata": {},
   "outputs": [
    {
     "name": "stdout",
     "output_type": "stream",
     "text": [
      "torch.Size([123, 10, 16])\n"
     ]
    }
   ],
   "source": [
    "embedX = embed_func(X); print(embedX.shape)"
   ]
  },
  {
   "cell_type": "code",
   "execution_count": 19,
   "id": "9a77c578",
   "metadata": {},
   "outputs": [
    {
     "data": {
      "text/plain": [
       "Parameter containing:\n",
       "tensor([[-1.1265, -0.0911, -1.3967,  0.4953, -1.3869, -0.7703,  1.0596,  0.1395,\n",
       "          0.7398, -0.0186,  0.2040,  0.3268,  0.4368, -1.2872, -0.5836, -0.2980]],\n",
       "       requires_grad=True)"
      ]
     },
     "execution_count": 19,
     "metadata": {},
     "output_type": "execute_result"
    }
   ],
   "source": [
    "query = torch.nn.Parameter(torch.randn(1,16))\n",
    "query"
   ]
  },
  {
   "cell_type": "code",
   "execution_count": 22,
   "id": "10719b24",
   "metadata": {},
   "outputs": [],
   "source": [
    "key_func = torch.nn.Linear(16,16)"
   ]
  },
  {
   "cell_type": "code",
   "execution_count": 23,
   "id": "5bd35067",
   "metadata": {},
   "outputs": [
    {
     "data": {
      "text/plain": [
       "torch.Size([123, 10, 16])"
      ]
     },
     "execution_count": 23,
     "metadata": {},
     "output_type": "execute_result"
    }
   ],
   "source": [
    "keys = key_func(embedX)\n",
    "keys.shape"
   ]
  },
  {
   "cell_type": "markdown",
   "id": "0d5f275b",
   "metadata": {},
   "source": [
    "$$\n",
    "Att_{bij} = \\text{Softmax}(\\frac{q_{ie} K_{bje}}{\\sqrt{d}})\n",
    "$$\n",
    "\n",
    "* $i$ : The number of questions\n",
    "* $e$ : The number of embedding features"
   ]
  },
  {
   "cell_type": "code",
   "execution_count": 36,
   "id": "a88aa0ac",
   "metadata": {},
   "outputs": [
    {
     "data": {
      "text/plain": [
       "torch.Size([123, 1, 10])"
      ]
     },
     "execution_count": 36,
     "metadata": {},
     "output_type": "execute_result"
    }
   ],
   "source": [
    "qk = torch.einsum('ie, bje -> bij', query, keys)\n",
    "qk = qk / 16**0.5\n",
    "\n",
    "att = torch.nn.functional.softmax(qk, dim=-1)\n",
    "att.shape"
   ]
  },
  {
   "cell_type": "code",
   "execution_count": 34,
   "id": "3e177855",
   "metadata": {},
   "outputs": [
    {
     "data": {
      "image/png": "[encoded data removed]",
      "text/plain": [
       "<Figure size 640x480 with 1 Axes>"
      ]
     },
     "metadata": {},
     "output_type": "display_data"
    }
   ],
   "source": [
    "plt.imshow(att[0].detach())\n",
    "plt.show()"
   ]
  },
  {
   "cell_type": "code",
   "execution_count": 41,
   "id": "8a76ea9b",
   "metadata": {},
   "outputs": [],
   "source": [
    "value_func = torch.nn.Sequential(\n",
    "    torch.nn.Linear(16, 32),\n",
    "    torch.nn.ReLU(),\n",
    "    torch.nn.Linear(32,1)\n",
    ")\n",
    "\n",
    "head_mlp = torch.nn.Sequential(\n",
    "    torch.nn.Linear(1,32),\n",
    "    torch.nn.ReLU(),\n",
    "    torch.nn.Linear(32,1),\n",
    "    torch.nn.Sigmoid()\n",
    ")"
   ]
  },
  {
   "cell_type": "code",
   "execution_count": 35,
   "id": "686cf136",
   "metadata": {},
   "outputs": [
    {
     "data": {
      "text/plain": [
       "torch.Size([123, 10, 1])"
      ]
     },
     "execution_count": 35,
     "metadata": {},
     "output_type": "execute_result"
    }
   ],
   "source": [
    "vals = value_func(embedX)\n",
    "vals.shape"
   ]
  },
  {
   "cell_type": "code",
   "execution_count": 38,
   "id": "3503cd45",
   "metadata": {},
   "outputs": [],
   "source": [
    "summary = torch.einsum('bij, bje -> bie', att, vals)[:,0,:]"
   ]
  },
  {
   "cell_type": "code",
   "execution_count": 40,
   "id": "11c367dd",
   "metadata": {},
   "outputs": [
    {
     "data": {
      "text/plain": [
       "torch.Size([123, 1])"
      ]
     },
     "execution_count": 40,
     "metadata": {},
     "output_type": "execute_result"
    }
   ],
   "source": [
    "summary.shape"
   ]
  },
  {
   "cell_type": "code",
   "execution_count": 43,
   "id": "4e004034",
   "metadata": {},
   "outputs": [],
   "source": [
    "pred = head_mlp(summary)"
   ]
  },
  {
   "cell_type": "code",
   "execution_count": 44,
   "id": "2c5d9d76",
   "metadata": {},
   "outputs": [
    {
     "data": {
      "text/plain": [
       "torch.Size([123, 1])"
      ]
     },
     "execution_count": 44,
     "metadata": {},
     "output_type": "execute_result"
    }
   ],
   "source": [
    "pred.shape"
   ]
  },
  {
   "cell_type": "code",
   "execution_count": 57,
   "id": "35062c08",
   "metadata": {},
   "outputs": [],
   "source": [
    "class AttentionModel(torch.nn.Module):\n",
    "    def __init__(self):\n",
    "        super().__init__()\n",
    "        self.query = torch.nn.Parameter(torch.randn(1,16))\n",
    "        self.embed_func = torch.nn.Embedding(10, embedding_dim=16)\n",
    "        self.key_func = torch.nn.Linear(16,16)\n",
    "        self.value_func = torch.nn.Sequential(\n",
    "            torch.nn.Linear(16, 32),\n",
    "            torch.nn.ReLU(),\n",
    "            torch.nn.Linear(32,1)\n",
    "        )\n",
    "\n",
    "        self.head_mlp = torch.nn.Sequential(\n",
    "            torch.nn.Linear(1,32),\n",
    "            torch.nn.ReLU(),\n",
    "            torch.nn.Linear(32,1),\n",
    "            torch.nn.Sigmoid()\n",
    "        )\n",
    "        \n",
    "    def forward(self, X):\n",
    "        embedX = self.embed_func(X)\n",
    "        keys = self.key_func(embedX)\n",
    "        qk = torch.einsum('ie, bje -> bij', self.query, keys)\n",
    "        qk = qk / 16 ** 0.5\n",
    "        att = torch.nn.functional.softmax(qk, dim = -1)\n",
    "        vals = self.value_func(embedX)\n",
    "        summary = torch.einsum('bij, bje -> bie', att, vals)[:,0,:]\n",
    "        \n",
    "        pred = self.head_mlp(summary)\n",
    "        return pred, att, vals"
   ]
  },
  {
   "cell_type": "code",
   "execution_count": 58,
   "id": "30f360d9",
   "metadata": {},
   "outputs": [
    {
     "ename": "ValueError",
     "evalue": "Using a target size (torch.Size([123, 10, 1])) that is different to the input size (torch.Size([123, 1])) is deprecated. Please ensure they have the same size.",
     "output_type": "error",
     "traceback": [
      "\u001b[0;31m---------------------------------------------------------------------------\u001b[0m",
      "\u001b[0;31mValueError\u001b[0m                                Traceback (most recent call last)",
      "Cell \u001b[0;32mIn[58], line 6\u001b[0m\n\u001b[1;32m      3\u001b[0m X, y \u001b[38;5;241m=\u001b[39m generate_data(\u001b[38;5;241m123\u001b[39m)\n\u001b[1;32m      4\u001b[0m p, a, y \u001b[38;5;241m=\u001b[39m model(X)\n\u001b[0;32m----> 6\u001b[0m loss \u001b[38;5;241m=\u001b[39m \u001b[43mtorch\u001b[49m\u001b[38;5;241;43m.\u001b[39;49m\u001b[43mnn\u001b[49m\u001b[38;5;241;43m.\u001b[39;49m\u001b[43mfunctional\u001b[49m\u001b[38;5;241;43m.\u001b[39;49m\u001b[43mbinary_cross_entropy\u001b[49m\u001b[43m(\u001b[49m\u001b[43mp\u001b[49m\u001b[43m,\u001b[49m\u001b[43my\u001b[49m\u001b[43m)\u001b[49m\n",
      "File \u001b[0;32m/usr/lib/python3.11/site-packages/torch/nn/functional.py:3089\u001b[0m, in \u001b[0;36mbinary_cross_entropy\u001b[0;34m(input, target, weight, size_average, reduce, reduction)\u001b[0m\n\u001b[1;32m   3087\u001b[0m     reduction_enum \u001b[38;5;241m=\u001b[39m _Reduction\u001b[38;5;241m.\u001b[39mget_enum(reduction)\n\u001b[1;32m   3088\u001b[0m \u001b[38;5;28;01mif\u001b[39;00m target\u001b[38;5;241m.\u001b[39msize() \u001b[38;5;241m!=\u001b[39m \u001b[38;5;28minput\u001b[39m\u001b[38;5;241m.\u001b[39msize():\n\u001b[0;32m-> 3089\u001b[0m     \u001b[38;5;28;01mraise\u001b[39;00m \u001b[38;5;167;01mValueError\u001b[39;00m(\n\u001b[1;32m   3090\u001b[0m         \u001b[38;5;124m\"\u001b[39m\u001b[38;5;124mUsing a target size (\u001b[39m\u001b[38;5;132;01m{}\u001b[39;00m\u001b[38;5;124m) that is different to the input size (\u001b[39m\u001b[38;5;132;01m{}\u001b[39;00m\u001b[38;5;124m) is deprecated. \u001b[39m\u001b[38;5;124m\"\u001b[39m\n\u001b[1;32m   3091\u001b[0m         \u001b[38;5;124m\"\u001b[39m\u001b[38;5;124mPlease ensure they have the same size.\u001b[39m\u001b[38;5;124m\"\u001b[39m\u001b[38;5;241m.\u001b[39mformat(target\u001b[38;5;241m.\u001b[39msize(), \u001b[38;5;28minput\u001b[39m\u001b[38;5;241m.\u001b[39msize())\n\u001b[1;32m   3092\u001b[0m     )\n\u001b[1;32m   3094\u001b[0m \u001b[38;5;28;01mif\u001b[39;00m weight \u001b[38;5;129;01mis\u001b[39;00m \u001b[38;5;129;01mnot\u001b[39;00m \u001b[38;5;28;01mNone\u001b[39;00m:\n\u001b[1;32m   3095\u001b[0m     new_size \u001b[38;5;241m=\u001b[39m _infer_size(target\u001b[38;5;241m.\u001b[39msize(), weight\u001b[38;5;241m.\u001b[39msize())\n",
      "\u001b[0;31mValueError\u001b[0m: Using a target size (torch.Size([123, 10, 1])) that is different to the input size (torch.Size([123, 1])) is deprecated. Please ensure they have the same size."
     ]
    }
   ],
   "source": [
    "model = AttentionModel()\n",
    "\n",
    "X, y = generate_data(123)\n",
    "p, a, y = model(X)\n",
    "\n",
    "loss = torch.nn.functional.binary_cross_entropy(p,y)\n",
    "loss"
   ]
  },
  {
   "cell_type": "code",
   "execution_count": null,
   "id": "5b3dbbf3",
   "metadata": {},
   "outputs": [],
   "source": []
  }
 ],
 "metadata": {
  "kernelspec": {
   "display_name": "Python 3 (ipykernel)",
   "language": "python",
   "name": "python3"
  },
  "language_info": {
   "codemirror_mode": {
    "name": "ipython",
    "version": 3
   },
   "file_extension": ".py",
   "mimetype": "text/x-python",
   "name": "python",
   "nbconvert_exporter": "python",
   "pygments_lexer": "ipython3",
   "version": "3.11.3"
  }
 },
 "nbformat": 4,
 "nbformat_minor": 5
}
