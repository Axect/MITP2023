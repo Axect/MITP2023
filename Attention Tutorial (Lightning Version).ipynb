{
 "cells": [
  {
   "cell_type": "code",
   "execution_count": 1,
   "id": "9888f5f5",
   "metadata": {},
   "outputs": [],
   "source": [
    "# PyTorch\n",
    "import torch\n",
    "import torch.nn as nn\n",
    "import torch.optim as optim\n",
    "import torch.nn.functional as F\n",
    "from torch.utils.data import Dataset, DataLoader, random_split, TensorDataset\n",
    "from torch.optim.lr_scheduler import PolynomialLR, CosineAnnealingLR, CosineAnnealingWarmRestarts, OneCycleLR\n",
    "\n",
    "# PyTorch Lightning\n",
    "import pytorch_lightning as pl\n",
    "from pytorch_lightning import Trainer\n",
    "from pytorch_lightning.loggers import WandbLogger\n",
    "from pytorch_lightning.callbacks import EarlyStopping, LearningRateMonitor\n",
    "\n",
    "import wandb\n",
    "\n",
    "import warnings\n",
    "warnings.filterwarnings(\"ignore\")\n",
    "\n",
    "import numpy as np\n",
    "import matplotlib.pyplot as plt"
   ]
  },
  {
   "cell_type": "code",
   "execution_count": 2,
   "id": "16e126c7",
   "metadata": {},
   "outputs": [],
   "source": [
    "class FourVSTwo(Dataset):\n",
    "    def __init__(self, N):\n",
    "        self.X = torch.randint(0, 9, size=(N, 10))\n",
    "        num2s = torch.count_nonzero(self.X == 2, dim = -1)\n",
    "        num4s = torch.count_nonzero(self.X == 4, dim = -1)\n",
    "        labels = torch.tensor(num4s > num2s, dtype=torch.float)\n",
    "        self.y = labels.reshape(-1, 1)\n",
    "    \n",
    "    def __len__(self):\n",
    "        return self.X.shape[0]\n",
    "    \n",
    "    def __getitem__(self, idx):\n",
    "        return self.X[idx], self.y[idx]"
   ]
  },
  {
   "cell_type": "code",
   "execution_count": 3,
   "id": "786fe993",
   "metadata": {},
   "outputs": [],
   "source": [
    "class AttentionModel(pl.LightningModule):\n",
    "    def __init__(self, hparams):\n",
    "        super(AttentionModel, self).__init__()\n",
    "        \n",
    "        self.lr       = hparams['learning_rate']\n",
    "        self.batch    = hparams['batch_size']\n",
    "        self.epoch    = hparams['epoch']\n",
    "        \n",
    "        self.query    = nn.Parameter(torch.randn(1,16))\n",
    "        self.embed_fn = nn.Embedding(10, embedding_dim=16)\n",
    "        self.key_fn   = nn.Linear(16, 16)\n",
    "        self.val_fn   = nn.Sequential(\n",
    "            nn.Linear(16, 32),\n",
    "            nn.ReLU(),\n",
    "            nn.Linear(32, 1)\n",
    "        )\n",
    "        self.head_mlp = nn.Sequential(\n",
    "            nn.Linear(1, 32),\n",
    "            nn.ReLU(),\n",
    "            nn.Linear(32, 1),\n",
    "            nn.Sigmoid()\n",
    "        )\n",
    "        self.save_hyperparameters(hparams)\n",
    "        self.loss_fn = nn.BCELoss()\n",
    "    \n",
    "    def forward(self, X):\n",
    "        embedX  = self.embed_fn(X)\n",
    "        keys    = self.key_fn(embedX)\n",
    "        \n",
    "        qk      = torch.einsum('ie, bje -> bij', self.query, keys)\n",
    "        qk      = qk / 16**0.5\n",
    "        att     = F.softmax(qk, dim=-1)\n",
    "        vals    = self.val_fn(embedX)\n",
    "        summary = torch.einsum('bij, bje -> bie', att, vals)[:,0,:]\n",
    "        \n",
    "        pred    = self.head_mlp(summary)\n",
    "        return pred, att, vals\n",
    "    \n",
    "    def training_step(self, batch, batch_idx):\n",
    "        X, y = batch\n",
    "        p, a, v = self(X)\n",
    "        loss = self.loss_fn(p, y)\n",
    "        self.log('train_loss', loss)\n",
    "        return loss\n",
    "    \n",
    "    def validation_step(self, batch, batch_idx):\n",
    "        X, y = batch\n",
    "        p, a, v = self(X)\n",
    "        loss = self.loss_fn(p, y)\n",
    "        self.log('val_loss', loss)\n",
    "        return loss\n",
    "    \n",
    "    def configure_optimizers(self):\n",
    "        optimizer = optim.RAdam(self.parameters(), lr=self.lr)\n",
    "        return optimizer"
   ]
  },
  {
   "cell_type": "code",
   "execution_count": 4,
   "id": "cd26a103",
   "metadata": {},
   "outputs": [
    {
     "name": "stderr",
     "output_type": "stream",
     "text": [
      "Global seed set to 125\n"
     ]
    },
    {
     "data": {
      "text/plain": [
       "125"
      ]
     },
     "execution_count": 4,
     "metadata": {},
     "output_type": "execute_result"
    }
   ],
   "source": [
    "pl.seed_everything(125)"
   ]
  },
  {
   "cell_type": "code",
   "execution_count": 5,
   "id": "b83dfec1",
   "metadata": {},
   "outputs": [],
   "source": [
    "torch.set_float32_matmul_precision('medium')"
   ]
  },
  {
   "cell_type": "code",
   "execution_count": 6,
   "id": "cc68c056",
   "metadata": {},
   "outputs": [],
   "source": [
    "ds_train = FourVSTwo(1000)\n",
    "ds_val   = FourVSTwo(200)"
   ]
  },
  {
   "cell_type": "code",
   "execution_count": 7,
   "id": "4ef1ac12",
   "metadata": {},
   "outputs": [
    {
     "data": {
      "text/plain": [
       "(tensor([[6, 2, 6, 4, 4, 5, 3, 8, 1, 0],\n",
       "         [0, 8, 4, 2, 7, 6, 6, 6, 5, 3]]),\n",
       " tensor([[1.],\n",
       "         [0.]]))"
      ]
     },
     "execution_count": 7,
     "metadata": {},
     "output_type": "execute_result"
    }
   ],
   "source": [
    "ds_train[0:2]"
   ]
  },
  {
   "cell_type": "code",
   "execution_count": 8,
   "id": "d05ec699",
   "metadata": {},
   "outputs": [],
   "source": [
    "hparams = {\n",
    "    \"learning_rate\": 1e-4,\n",
    "    \"epoch\": 100,\n",
    "    \"batch_size\": 20,\n",
    "}"
   ]
  },
  {
   "cell_type": "code",
   "execution_count": 9,
   "id": "64c2c57c",
   "metadata": {},
   "outputs": [],
   "source": [
    "dl_train = DataLoader(ds_train, batch_size=hparams['batch_size'], shuffle=True)\n",
    "dl_val   = DataLoader(ds_val, batch_size=hparams['batch_size'], shuffle=False)"
   ]
  },
  {
   "cell_type": "code",
   "execution_count": 10,
   "id": "98f8a1b8",
   "metadata": {},
   "outputs": [],
   "source": [
    "model = AttentionModel(hparams)"
   ]
  },
  {
   "cell_type": "code",
   "execution_count": 11,
   "id": "d13cc07f",
   "metadata": {},
   "outputs": [
    {
     "data": {
      "text/plain": [
       "AttentionModel(\n",
       "  (embed_fn): Embedding(10, 16)\n",
       "  (key_fn): Linear(in_features=16, out_features=16, bias=True)\n",
       "  (val_fn): Sequential(\n",
       "    (0): Linear(in_features=16, out_features=32, bias=True)\n",
       "    (1): ReLU()\n",
       "    (2): Linear(in_features=32, out_features=1, bias=True)\n",
       "  )\n",
       "  (head_mlp): Sequential(\n",
       "    (0): Linear(in_features=1, out_features=32, bias=True)\n",
       "    (1): ReLU()\n",
       "    (2): Linear(in_features=32, out_features=1, bias=True)\n",
       "    (3): Sigmoid()\n",
       "  )\n",
       "  (loss_fn): BCELoss()\n",
       ")"
      ]
     },
     "execution_count": 11,
     "metadata": {},
     "output_type": "execute_result"
    }
   ],
   "source": [
    "model"
   ]
  },
  {
   "cell_type": "code",
   "execution_count": 12,
   "id": "e96af312",
   "metadata": {},
   "outputs": [
    {
     "name": "stderr",
     "output_type": "stream",
     "text": [
      "\u001b[34m\u001b[1mwandb\u001b[0m: Currently logged in as: \u001b[33maxect\u001b[0m. Use \u001b[1m`wandb login --relogin`\u001b[0m to force relogin\n"
     ]
    },
    {
     "data": {
      "application/vnd.jupyter.widget-view+json": {
       "model_id": "766d7f85a0574bd28cbb4d6019fb8d69",
       "version_major": 2,
       "version_minor": 0
      },
      "text/plain": [
       "VBox(children=(Label(value='Waiting for wandb.init()...\\r'), FloatProgress(value=0.016669230450012642, max=1.0…"
      ]
     },
     "metadata": {},
     "output_type": "display_data"
    },
    {
     "data": {
      "text/html": [
       "Tracking run with wandb version 0.15.5"
      ],
      "text/plain": [
       "<IPython.core.display.HTML object>"
      ]
     },
     "metadata": {},
     "output_type": "display_data"
    },
    {
     "data": {
      "text/html": [
       "Run data is saved locally in <code>./wandb/run-20230712_232532-ynko5q2c</code>"
      ],
      "text/plain": [
       "<IPython.core.display.HTML object>"
      ]
     },
     "metadata": {},
     "output_type": "display_data"
    },
    {
     "data": {
      "text/html": [
       "Syncing run <strong><a href='https://wandb.ai/axect/MITP2023/runs/ynko5q2c' target=\"_blank\">cool-sky-6</a></strong> to <a href='https://wandb.ai/axect/MITP2023' target=\"_blank\">Weights & Biases</a> (<a href='https://wandb.me/run' target=\"_blank\">docs</a>)<br/>"
      ],
      "text/plain": [
       "<IPython.core.display.HTML object>"
      ]
     },
     "metadata": {},
     "output_type": "display_data"
    },
    {
     "data": {
      "text/html": [
       " View project at <a href='https://wandb.ai/axect/MITP2023' target=\"_blank\">https://wandb.ai/axect/MITP2023</a>"
      ],
      "text/plain": [
       "<IPython.core.display.HTML object>"
      ]
     },
     "metadata": {},
     "output_type": "display_data"
    },
    {
     "data": {
      "text/html": [
       " View run at <a href='https://wandb.ai/axect/MITP2023/runs/ynko5q2c' target=\"_blank\">https://wandb.ai/axect/MITP2023/runs/ynko5q2c</a>"
      ],
      "text/plain": [
       "<IPython.core.display.HTML object>"
      ]
     },
     "metadata": {},
     "output_type": "display_data"
    }
   ],
   "source": [
    "wandb_logger = WandbLogger(\n",
    "    project=\"MITP2023\"\n",
    ")"
   ]
  },
  {
   "cell_type": "code",
   "execution_count": 13,
   "id": "c6ac0c56",
   "metadata": {},
   "outputs": [
    {
     "name": "stderr",
     "output_type": "stream",
     "text": [
      "GPU available: True (cuda), used: True\n",
      "TPU available: False, using: 0 TPU cores\n",
      "IPU available: False, using: 0 IPUs\n",
      "HPU available: False, using: 0 HPUs\n"
     ]
    }
   ],
   "source": [
    "trainer = Trainer(\n",
    "    logger=wandb_logger,\n",
    "    devices=[0],\n",
    "    accelerator='auto',\n",
    "    max_epochs=hparams['epoch'],\n",
    "    enable_progress_bar=False,\n",
    "    callbacks=[\n",
    "        LearningRateMonitor(logging_interval='epoch')\n",
    "    ]\n",
    ")"
   ]
  },
  {
   "cell_type": "code",
   "execution_count": 14,
   "id": "43221bf4",
   "metadata": {},
   "outputs": [
    {
     "name": "stderr",
     "output_type": "stream",
     "text": [
      "LOCAL_RANK: 0 - CUDA_VISIBLE_DEVICES: [0]\n",
      "\n",
      "  | Name     | Type       | Params\n",
      "----------------------------------------\n",
      "0 | embed_fn | Embedding  | 160   \n",
      "1 | key_fn   | Linear     | 272   \n",
      "2 | val_fn   | Sequential | 577   \n",
      "3 | head_mlp | Sequential | 97    \n",
      "4 | loss_fn  | BCELoss    | 0     \n",
      "----------------------------------------\n",
      "1.1 K     Trainable params\n",
      "0         Non-trainable params\n",
      "1.1 K     Total params\n",
      "0.004     Total estimated model params size (MB)\n",
      "`Trainer.fit` stopped: `max_epochs=100` reached.\n"
     ]
    }
   ],
   "source": [
    "trainer.fit(model, dl_train, dl_val)"
   ]
  },
  {
   "cell_type": "code",
   "execution_count": 15,
   "id": "2d1d3c8f",
   "metadata": {},
   "outputs": [
    {
     "data": {
      "text/html": [
       "Waiting for W&B process to finish... <strong style=\"color:green\">(success).</strong>"
      ],
      "text/plain": [
       "<IPython.core.display.HTML object>"
      ]
     },
     "metadata": {},
     "output_type": "display_data"
    },
    {
     "data": {
      "text/html": [
       "<style>\n",
       "    table.wandb td:nth-child(1) { padding: 0 10px; text-align: left ; width: auto;} td:nth-child(2) {text-align: left ; width: 100%}\n",
       "    .wandb-row { display: flex; flex-direction: row; flex-wrap: wrap; justify-content: flex-start; width: 100% }\n",
       "    .wandb-col { display: flex; flex-direction: column; flex-basis: 100%; flex: 1; padding: 10px; }\n",
       "    </style>\n",
       "<div class=\"wandb-row\"><div class=\"wandb-col\"><h3>Run history:</h3><br/><table class=\"wandb\"><tr><td>epoch</td><td>▁▁▁▁▂▂▂▂▂▃▃▃▃▃▃▄▄▄▄▄▅▅▅▅▅▅▆▆▆▆▆▇▇▇▇▇▇███</td></tr><tr><td>lr-RAdam</td><td>▁▁▁▁▁▁▁▁▁▁▁▁▁▁▁▁▁▁▁▁▁▁▁▁▁▁▁▁▁▁▁▁▁▁▁▁▁▁▁▁</td></tr><tr><td>train_loss</td><td>█████▇▇▇▆▇▆▅▅▆▇▅▆▅▄▆▆▄▅▄▆▄▄▄▃▂▂▂▁▂▁▁▁▁▁▁</td></tr><tr><td>trainer/global_step</td><td>▁▁▁▁▂▂▂▂▂▃▃▃▃▃▃▄▄▄▄▄▅▅▅▅▅▅▆▆▆▆▆▇▇▇▇▇▇███</td></tr><tr><td>val_loss</td><td>██████▇▇▇▇▆▆▆▆▆▆▅▅▅▅▅▅▅▅▅▅▄▄▃▂▂▂▁▁▁▁▁▁▁▁</td></tr></table><br/></div><div class=\"wandb-col\"><h3>Run summary:</h3><br/><table class=\"wandb\"><tr><td>epoch</td><td>99</td></tr><tr><td>lr-RAdam</td><td>0.0001</td></tr><tr><td>train_loss</td><td>0.02104</td></tr><tr><td>trainer/global_step</td><td>4999</td></tr><tr><td>val_loss</td><td>0.02401</td></tr></table><br/></div></div>"
      ],
      "text/plain": [
       "<IPython.core.display.HTML object>"
      ]
     },
     "metadata": {},
     "output_type": "display_data"
    },
    {
     "data": {
      "text/html": [
       " View run <strong style=\"color:#cdcd00\">cool-sky-6</strong> at: <a href='https://wandb.ai/axect/MITP2023/runs/ynko5q2c' target=\"_blank\">https://wandb.ai/axect/MITP2023/runs/ynko5q2c</a><br/>Synced 5 W&B file(s), 0 media file(s), 0 artifact file(s) and 0 other file(s)"
      ],
      "text/plain": [
       "<IPython.core.display.HTML object>"
      ]
     },
     "metadata": {},
     "output_type": "display_data"
    },
    {
     "data": {
      "text/html": [
       "Find logs at: <code>./wandb/run-20230712_232532-ynko5q2c/logs</code>"
      ],
      "text/plain": [
       "<IPython.core.display.HTML object>"
      ]
     },
     "metadata": {},
     "output_type": "display_data"
    }
   ],
   "source": [
    "wandb.finish()"
   ]
  },
  {
   "cell_type": "code",
   "execution_count": 16,
   "id": "d5f750a6",
   "metadata": {},
   "outputs": [],
   "source": [
    "with torch.no_grad():\n",
    "    X = torch.LongTensor([[4, 7, 2, 2, 2, 1, 3, 4, 0, 6]])\n",
    "    p, a, v = model(X)"
   ]
  },
  {
   "cell_type": "code",
   "execution_count": 17,
   "id": "e1bd18a9",
   "metadata": {},
   "outputs": [
    {
     "data": {
      "image/png": "[encoded data removed]",
      "text/plain": [
       "<Figure size 640x480 with 1 Axes>"
      ]
     },
     "metadata": {},
     "output_type": "display_data"
    },
    {
     "data": {
      "image/png": "[encoded data removed]",
      "text/plain": [
       "<Figure size 2000x100 with 1 Axes>"
      ]
     },
     "metadata": {},
     "output_type": "display_data"
    }
   ],
   "source": [
    "plt.imshow(a[0], vmin=0, vmax=1)\n",
    "for x, y, d in zip(np.arange(10), np.zeros(10), X[0]):\n",
    "    plt.text(x,y,int(d), c='r' if d in [4,2] else 'w')\n",
    "plt.show()\n",
    "\n",
    "msgs = v[:,:,0]\n",
    "msgs = np.where(a[0] > 0.1, v[:,:,0], np.nan*v[:,:,0])\n",
    "plt.imshow(msgs)\n",
    "for x, y, d in zip(np.arange(10), np.zeros(10), msgs[0]):\n",
    "    plt.text(x,y,f'{d:.1f}', c='w')\n",
    "plt.gcf().set_size_inches(20,1)\n",
    "plt.show()"
   ]
  },
  {
   "cell_type": "code",
   "execution_count": 18,
   "id": "691a2e00",
   "metadata": {},
   "outputs": [],
   "source": [
    "def decoder(p):\n",
    "    return torch.tensor(p > 0.5, dtype=torch.float)"
   ]
  },
  {
   "cell_type": "code",
   "execution_count": 19,
   "id": "1bde1783",
   "metadata": {},
   "outputs": [],
   "source": [
    "result = []\n",
    "with torch.no_grad():\n",
    "    for X, y in dl_train:\n",
    "        p, _, _ = model(X)\n",
    "        result.extend(torch.flatten(decoder(p) == y).detach().tolist())\n",
    "    for X, y in dl_val:\n",
    "        p, _, _ = model(X)\n",
    "        result.extend(torch.flatten(decoder(p) == y).detach().tolist())"
   ]
  },
  {
   "cell_type": "code",
   "execution_count": 20,
   "id": "e5623152",
   "metadata": {},
   "outputs": [
    {
     "name": "stdout",
     "output_type": "stream",
     "text": [
      "Accuracy: 100.0%\n"
     ]
    }
   ],
   "source": [
    "acc = np.count_nonzero(np.array(result) == True) / len(result)\n",
    "print(f\"Accuracy: {acc * 100}%\")"
   ]
  }
 ],
 "metadata": {
  "kernelspec": {
   "display_name": "Python 3 (ipykernel)",
   "language": "python",
   "name": "python3"
  },
  "language_info": {
   "codemirror_mode": {
    "name": "ipython",
    "version": 3
   },
   "file_extension": ".py",
   "mimetype": "text/x-python",
   "name": "python",
   "nbconvert_exporter": "python",
   "pygments_lexer": "ipython3",
   "version": "3.11.3"
  }
 },
 "nbformat": 4,
 "nbformat_minor": 5
}
